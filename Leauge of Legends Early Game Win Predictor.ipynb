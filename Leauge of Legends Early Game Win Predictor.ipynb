{
 "cells": [
  {
   "cell_type": "markdown",
   "id": "5f586596-eb45-4a0d-83ee-850a7dd8b23a",
   "metadata": {},
   "source": [
    "<p style=\"text-align:center\">\n",
    "    <a href=\"https://skills.network/?utm_medium=Exinfluencer&utm_source=Exinfluencer&utm_content=000026UJ&utm_term=10006555&utm_id=NA-SkillsNetwork-Channel-SkillsNetworkCoursesIBMDS0321ENSkillsNetwork26802033-2022-01-01\">\n",
    "    <img src=\"https://raw.githubusercontent.com/github/explore/b088bf18ff2af3f2216294ffb10f5a07eb55aa31/topics/league-of-legends/league-of-legends.png\" width=\"100\" alt=\"League of Legends Logo\"/>\n",
    "    </a>\n",
    "</p>"
   ]
  },
  {
   "cell_type": "markdown",
   "id": "50450916-60c1-4c36-9c57-0e0278045af5",
   "metadata": {
    "tags": []
   },
   "source": [
    "# **League of Legends Win Predictor - First 10 Minutes**\n"
   ]
  },
  {
   "cell_type": "markdown",
   "id": "88790508-d86f-44df-9da7-f728bb4b927f",
   "metadata": {},
   "source": [
    "<h2>Goal</h2>For this machine learning project, I aim to provide valuable insights into the factors that contribute to winning a game in League of Legends. By analyzing various game statistics, I will identify the most important aspects of gameplay that can lead to a victory.\n",
    "\n",
    "<br>\n",
    "<br>"
   ]
  },
  {
   "cell_type": "markdown",
   "id": "8285586c-480b-423c-a492-29c8ed7ad856",
   "metadata": {},
   "source": [
    "**What is League of Legends?**\n",
    "\n",
    "League of Legends is a popular MOBA (multiplayer online battle arena) game where two teams, blue and red, each consisting of five champions, compete to demolish the opponent's base. With a vast array of champions to choose from, players must collaborate with their teammates to emerge victorious against the opposing team.\n",
    "\n",
    "In the arena, there are three lanes (top, middle, and bottom) where five players on each team are typically distributed in a 1:1:2 formation from top to bottom, with the fifth player assuming the role of a jungler.\n",
    "\n",
    "Minions spawn in each lane and proceed toward the center, where they encounter enemy minions.\n",
    "\n",
    "Each lane has three towers (turrets) and an inhibitor, which leads to the team's base. Within the base, the Nexus is protected by two additional towers. To achieve victory, a team must either destroy the enemy's Nexus or force the opposing team to surrender."
   ]
  },
  {
   "cell_type": "markdown",
   "id": "330dd5db-b7b2-4950-bd86-d73aef85adca",
   "metadata": {},
   "source": [
    "## Glossary:\n",
    "\n",
    "* <h3>Warding Totem: </h3> <img src=\"https://yt3.googleusercontent.com/aLOZI7OO7QcN_eT_7SwnRrihPuJq0O8pY0_Ony5h0TTMrmyPn1wZ-pX_KJdNA16iEBG03g2-gA=s900-c-k-c0x00ffffff-no-rj\" width=\"100\" alt=\"League of Legends Logo\"/><p> A strategic item placed on the map to reveal the surrounding area, assisting in map and objective control. </p>\n",
    "* <h3>Minions: </h3> <img src=\"https://cdn.sanity.io/images/ccckgjf9/production/30aef4c7a7d44843b38f283fc90fe36cf50954cb-581x315.png?max-h=1080&max-w=1920&fit=scale&auto=format\" width=\"100\" alt=\"League of Legends Logo\"/> <p>Non-player characters (NPCs) affiliated with both teams. When defeated by players, they provide gold.</p>\n",
    "* <h3>Jungle Minions: </h3> <img src=\"https://lolfanatics.com/wp-content/uploads/2022/02/Ancient-Krug.jpg\" width=\"100\" alt=\"League of Legends Logo\"/><p> Neutral NPCs that do not belong to any team. Grant gold and buffs upon being defeated by players.</p>\n",
    "* <h3>Elite Monsters: </h3> <img src=\"https://s3-eu-central-1.amazonaws.com/www-staging.esports.com/WP%20Media%20Folder%20-%20esports-com//var/app/current/web/app/uploads/2021/04/Blue-buff-red-buff-league-101.jpg\" width=\"100\" alt=\"League of Legends Logo\"/> <p>High health and damage monsters that offer significant bonuses (gold, XP, stats) when defeated by a team.</p>\n",
    "* <h3>Dragons: </h3> <img src=\"https://nexus.leagueoflegends.com/wp-content/uploads/2017/12/LOL_CMS_165_Social_1200_uvxymaboxatdsatlqjwu.jpg\" width=\"100\" alt=\"League of Legends Logo\"/><p>A type of Elite Monster that provides team-wide bonuses upon defeat. The 4th dragon slain grants a substantial stat boost, while the 5th (Elder Dragon) provides a significant advantage to the team.</p>\n",
    "* <h3>Rift Herald: </h3> <img src=\"https://pm1.narvii.com/6865/096f28f5a40021812b11812299d178778556f60ar1-530-350v2_uhq.jpg\" width=\"100\" alt=\"League of Legends Logo\"/><p>An Elite Monster that bestows stat bonuses upon defeat. Assists in pushing lanes and destroying structures.</p>\n",
    "* <h3>Towers (Turret): </h3> <img src=\"https://cdn.vox-cdn.com/thumbor/5Pa2dIGZrInQpSBDJHFPS4gxHWo=/1400x0/filters:no_upscale()/cdn.vox-cdn.com/uploads/chorus_asset/file/7164887/Blue%20Tower.PNG\" width=\"100\" alt=\"League of Legends Logo\"/><p>Essential structures that must be destroyed to reach the enemy Nexus, awarding gold when taken down.</p>\n",
    "* <h3>Level: </h3> <img src=\"https://mobalytics.gg/wp-content/uploads/2019/08/Dont-level-up.jpg\" width=\"100\" alt=\"League of Legends Logo\"/><p>A measure of a champion's progress, ranging from 1 to 18. Higher levels unlock new abilities and enhance stats.</p>"
   ]
  },
  {
   "cell_type": "markdown",
   "id": "f4ef2104-dcb3-44fd-8b86-4295e947a80c",
   "metadata": {},
   "source": [
    "## League of Legends Map\n",
    "<img src=\"https://www.researchgate.net/publication/319839481/figure/fig1/AS:539281729228800@1505586191613/A-Map-of-the-League-of-Legends-game-play-in-the-classic-mode.png\" width=\"1000\" alt=\"League of Legends Logo\"/>"
   ]
  },
  {
   "cell_type": "markdown",
   "id": "dbd8c136-ec6e-40f8-95df-83f3e4b63b22",
   "metadata": {},
   "source": [
    "* <h3>blueWins:</h3> The target column indicating whether the blue team won the game (1) or the red team won (0).\n",
    "* <h3>WardsPlaced:</h3> The number of warding totems placed by the xx team (either blue or red).\n",
    "* <h3>WardsDestroyed:</h3> The number of enemy warding totems destroyed by the xx team.\n",
    "* <h3>FirstBlood:</h3> A binary variable indicating whether the first kill of the game was achieved by the xx team (1) or the opponent team (0).\n",
    "* <h3>Kills:</h3> The total number of enemy champions killed by the xx team.\n",
    "* <h3>Deaths:</h3> The total number of deaths of the xx team's champions.\n",
    "* <h3>Assists:</h3> The total number of assists (i.e., the number of kills in which a champion of the xx team participated but did not deliver the killing blow).\n",
    "* <h3>EliteMonsters:</h3> The total number of elite monsters (Dragons and Heralds) killed by the xx team.\n",
    "* <h3>Dragons:</h3> The total number of dragons killed by the xx team.\n",
    "* <h3>Heralds:</h3> The total number of heralds killed by the xx team.\n",
    "* <h3>TowersDestroyed:</h3> The total number of enemy structures destroyed by the xx team.\n",
    "* <h3>TotalGold:</h3> The total amount of gold earned by the xx team.\n",
    "* <h3>AvgLevel:</h3> The average level of the xx team's champions.\n",
    "* <h3>TotalExperience:</h3> The total amount of experience earned by the xx team's champions.\n",
    "* <h3>TotalMinionsKilled:</h3> The total number of minions (i.e., creeps) killed by the xx team's champions.\n",
    "* <h3>TotalJungleMinionsKilled:</h3> The total number of monsters killed in the jungle by the xx team's champions.\n",
    "* <h3>GoldDiff:</h3> The difference in gold earned between the xx team and the enemy team.\n",
    "* <h3>ExperienceDiff:</h3> The difference in experience earned between the xx team and the enemy team.\n",
    "* <h3>CSPerMin:</h3> The average number of minions (creeps) killed per minute by the xx team's champions.\n",
    "* <h3>GoldPerMin:</h3> The average amount of gold earned per minute by the xx team."
   ]
  },
  {
   "cell_type": "code",
   "execution_count": 22,
   "id": "0f24cd2b-10eb-4e17-8fab-f9375401734f",
   "metadata": {},
   "outputs": [
    {
     "data": {
      "text/html": [
       "<div>\n",
       "<style scoped>\n",
       "    .dataframe tbody tr th:only-of-type {\n",
       "        vertical-align: middle;\n",
       "    }\n",
       "\n",
       "    .dataframe tbody tr th {\n",
       "        vertical-align: top;\n",
       "    }\n",
       "\n",
       "    .dataframe thead th {\n",
       "        text-align: right;\n",
       "    }\n",
       "</style>\n",
       "<table border=\"1\" class=\"dataframe\">\n",
       "  <thead>\n",
       "    <tr style=\"text-align: right;\">\n",
       "      <th></th>\n",
       "      <th>gameId</th>\n",
       "      <th>blueWins</th>\n",
       "      <th>blueWardsPlaced</th>\n",
       "      <th>blueWardsDestroyed</th>\n",
       "      <th>blueFirstBlood</th>\n",
       "      <th>blueKills</th>\n",
       "      <th>blueDeaths</th>\n",
       "      <th>blueAssists</th>\n",
       "      <th>blueEliteMonsters</th>\n",
       "      <th>blueDragons</th>\n",
       "      <th>...</th>\n",
       "      <th>redTowersDestroyed</th>\n",
       "      <th>redTotalGold</th>\n",
       "      <th>redAvgLevel</th>\n",
       "      <th>redTotalExperience</th>\n",
       "      <th>redTotalMinionsKilled</th>\n",
       "      <th>redTotalJungleMinionsKilled</th>\n",
       "      <th>redGoldDiff</th>\n",
       "      <th>redExperienceDiff</th>\n",
       "      <th>redCSPerMin</th>\n",
       "      <th>redGoldPerMin</th>\n",
       "    </tr>\n",
       "  </thead>\n",
       "  <tbody>\n",
       "    <tr>\n",
       "      <th>0</th>\n",
       "      <td>4519157822</td>\n",
       "      <td>0</td>\n",
       "      <td>28</td>\n",
       "      <td>2</td>\n",
       "      <td>1</td>\n",
       "      <td>9</td>\n",
       "      <td>6</td>\n",
       "      <td>11</td>\n",
       "      <td>0</td>\n",
       "      <td>0</td>\n",
       "      <td>...</td>\n",
       "      <td>0</td>\n",
       "      <td>16567</td>\n",
       "      <td>6.8</td>\n",
       "      <td>17047</td>\n",
       "      <td>197</td>\n",
       "      <td>55</td>\n",
       "      <td>-643</td>\n",
       "      <td>8</td>\n",
       "      <td>19.7</td>\n",
       "      <td>1656.7</td>\n",
       "    </tr>\n",
       "    <tr>\n",
       "      <th>1</th>\n",
       "      <td>4523371949</td>\n",
       "      <td>0</td>\n",
       "      <td>12</td>\n",
       "      <td>1</td>\n",
       "      <td>0</td>\n",
       "      <td>5</td>\n",
       "      <td>5</td>\n",
       "      <td>5</td>\n",
       "      <td>0</td>\n",
       "      <td>0</td>\n",
       "      <td>...</td>\n",
       "      <td>1</td>\n",
       "      <td>17620</td>\n",
       "      <td>6.8</td>\n",
       "      <td>17438</td>\n",
       "      <td>240</td>\n",
       "      <td>52</td>\n",
       "      <td>2908</td>\n",
       "      <td>1173</td>\n",
       "      <td>24.0</td>\n",
       "      <td>1762.0</td>\n",
       "    </tr>\n",
       "    <tr>\n",
       "      <th>2</th>\n",
       "      <td>4521474530</td>\n",
       "      <td>0</td>\n",
       "      <td>15</td>\n",
       "      <td>0</td>\n",
       "      <td>0</td>\n",
       "      <td>7</td>\n",
       "      <td>11</td>\n",
       "      <td>4</td>\n",
       "      <td>1</td>\n",
       "      <td>1</td>\n",
       "      <td>...</td>\n",
       "      <td>0</td>\n",
       "      <td>17285</td>\n",
       "      <td>6.8</td>\n",
       "      <td>17254</td>\n",
       "      <td>203</td>\n",
       "      <td>28</td>\n",
       "      <td>1172</td>\n",
       "      <td>1033</td>\n",
       "      <td>20.3</td>\n",
       "      <td>1728.5</td>\n",
       "    </tr>\n",
       "    <tr>\n",
       "      <th>3</th>\n",
       "      <td>4524384067</td>\n",
       "      <td>0</td>\n",
       "      <td>43</td>\n",
       "      <td>1</td>\n",
       "      <td>0</td>\n",
       "      <td>4</td>\n",
       "      <td>5</td>\n",
       "      <td>5</td>\n",
       "      <td>1</td>\n",
       "      <td>0</td>\n",
       "      <td>...</td>\n",
       "      <td>0</td>\n",
       "      <td>16478</td>\n",
       "      <td>7.0</td>\n",
       "      <td>17961</td>\n",
       "      <td>235</td>\n",
       "      <td>47</td>\n",
       "      <td>1321</td>\n",
       "      <td>7</td>\n",
       "      <td>23.5</td>\n",
       "      <td>1647.8</td>\n",
       "    </tr>\n",
       "    <tr>\n",
       "      <th>4</th>\n",
       "      <td>4436033771</td>\n",
       "      <td>0</td>\n",
       "      <td>75</td>\n",
       "      <td>4</td>\n",
       "      <td>0</td>\n",
       "      <td>6</td>\n",
       "      <td>6</td>\n",
       "      <td>6</td>\n",
       "      <td>0</td>\n",
       "      <td>0</td>\n",
       "      <td>...</td>\n",
       "      <td>0</td>\n",
       "      <td>17404</td>\n",
       "      <td>7.0</td>\n",
       "      <td>18313</td>\n",
       "      <td>225</td>\n",
       "      <td>67</td>\n",
       "      <td>1004</td>\n",
       "      <td>-230</td>\n",
       "      <td>22.5</td>\n",
       "      <td>1740.4</td>\n",
       "    </tr>\n",
       "  </tbody>\n",
       "</table>\n",
       "<p>5 rows × 40 columns</p>\n",
       "</div>"
      ],
      "text/plain": [
       "       gameId  blueWins  blueWardsPlaced  blueWardsDestroyed  blueFirstBlood  \\\n",
       "0  4519157822         0               28                   2               1   \n",
       "1  4523371949         0               12                   1               0   \n",
       "2  4521474530         0               15                   0               0   \n",
       "3  4524384067         0               43                   1               0   \n",
       "4  4436033771         0               75                   4               0   \n",
       "\n",
       "   blueKills  blueDeaths  blueAssists  blueEliteMonsters  blueDragons  ...  \\\n",
       "0          9           6           11                  0            0  ...   \n",
       "1          5           5            5                  0            0  ...   \n",
       "2          7          11            4                  1            1  ...   \n",
       "3          4           5            5                  1            0  ...   \n",
       "4          6           6            6                  0            0  ...   \n",
       "\n",
       "   redTowersDestroyed  redTotalGold  redAvgLevel  redTotalExperience  \\\n",
       "0                   0         16567          6.8               17047   \n",
       "1                   1         17620          6.8               17438   \n",
       "2                   0         17285          6.8               17254   \n",
       "3                   0         16478          7.0               17961   \n",
       "4                   0         17404          7.0               18313   \n",
       "\n",
       "   redTotalMinionsKilled  redTotalJungleMinionsKilled  redGoldDiff  \\\n",
       "0                    197                           55         -643   \n",
       "1                    240                           52         2908   \n",
       "2                    203                           28         1172   \n",
       "3                    235                           47         1321   \n",
       "4                    225                           67         1004   \n",
       "\n",
       "   redExperienceDiff  redCSPerMin  redGoldPerMin  \n",
       "0                  8         19.7         1656.7  \n",
       "1               1173         24.0         1762.0  \n",
       "2               1033         20.3         1728.5  \n",
       "3                  7         23.5         1647.8  \n",
       "4               -230         22.5         1740.4  \n",
       "\n",
       "[5 rows x 40 columns]"
      ]
     },
     "execution_count": 22,
     "metadata": {},
     "output_type": "execute_result"
    }
   ],
   "source": [
    "import pandas as pd\n",
    "import numpy as np\n",
    "from sklearn.model_selection import train_test_split\n",
    "from sklearn.preprocessing import StandardScaler\n",
    "from sklearn.linear_model import LogisticRegression\n",
    "from sklearn.metrics import accuracy_score, confusion_matrix, classification_report\n",
    "df = pd.read_csv('high_diamond_ranked_10min.csv') \n",
    "df.head()"
   ]
  },
  {
   "cell_type": "code",
   "execution_count": 23,
   "id": "26ff0a6f-d86f-44e5-96ba-c0940a4041fe",
   "metadata": {},
   "outputs": [],
   "source": [
    "df.drop(['gameId'], axis = 1, inplace = True) "
   ]
  },
  {
   "cell_type": "code",
   "execution_count": 24,
   "id": "8e2db5f6-afd4-44e5-9c0a-ab0f62d52f81",
   "metadata": {},
   "outputs": [
    {
     "data": {
      "text/html": [
       "<div>\n",
       "<style scoped>\n",
       "    .dataframe tbody tr th:only-of-type {\n",
       "        vertical-align: middle;\n",
       "    }\n",
       "\n",
       "    .dataframe tbody tr th {\n",
       "        vertical-align: top;\n",
       "    }\n",
       "\n",
       "    .dataframe thead th {\n",
       "        text-align: right;\n",
       "    }\n",
       "</style>\n",
       "<table border=\"1\" class=\"dataframe\">\n",
       "  <thead>\n",
       "    <tr style=\"text-align: right;\">\n",
       "      <th></th>\n",
       "      <th>blueWins</th>\n",
       "      <th>blueWardsPlaced</th>\n",
       "      <th>blueWardsDestroyed</th>\n",
       "      <th>blueFirstBlood</th>\n",
       "      <th>blueKills</th>\n",
       "      <th>blueDeaths</th>\n",
       "      <th>blueAssists</th>\n",
       "      <th>blueEliteMonsters</th>\n",
       "      <th>blueDragons</th>\n",
       "      <th>blueHeralds</th>\n",
       "      <th>...</th>\n",
       "      <th>redTowersDestroyed</th>\n",
       "      <th>redTotalGold</th>\n",
       "      <th>redAvgLevel</th>\n",
       "      <th>redTotalExperience</th>\n",
       "      <th>redTotalMinionsKilled</th>\n",
       "      <th>redTotalJungleMinionsKilled</th>\n",
       "      <th>redGoldDiff</th>\n",
       "      <th>redExperienceDiff</th>\n",
       "      <th>redCSPerMin</th>\n",
       "      <th>redGoldPerMin</th>\n",
       "    </tr>\n",
       "  </thead>\n",
       "  <tbody>\n",
       "    <tr>\n",
       "      <th>0</th>\n",
       "      <td>0</td>\n",
       "      <td>28</td>\n",
       "      <td>2</td>\n",
       "      <td>1</td>\n",
       "      <td>9</td>\n",
       "      <td>6</td>\n",
       "      <td>11</td>\n",
       "      <td>0</td>\n",
       "      <td>0</td>\n",
       "      <td>0</td>\n",
       "      <td>...</td>\n",
       "      <td>0</td>\n",
       "      <td>16567</td>\n",
       "      <td>6.8</td>\n",
       "      <td>17047</td>\n",
       "      <td>197</td>\n",
       "      <td>55</td>\n",
       "      <td>-643</td>\n",
       "      <td>8</td>\n",
       "      <td>19.7</td>\n",
       "      <td>1656.7</td>\n",
       "    </tr>\n",
       "    <tr>\n",
       "      <th>1</th>\n",
       "      <td>0</td>\n",
       "      <td>12</td>\n",
       "      <td>1</td>\n",
       "      <td>0</td>\n",
       "      <td>5</td>\n",
       "      <td>5</td>\n",
       "      <td>5</td>\n",
       "      <td>0</td>\n",
       "      <td>0</td>\n",
       "      <td>0</td>\n",
       "      <td>...</td>\n",
       "      <td>1</td>\n",
       "      <td>17620</td>\n",
       "      <td>6.8</td>\n",
       "      <td>17438</td>\n",
       "      <td>240</td>\n",
       "      <td>52</td>\n",
       "      <td>2908</td>\n",
       "      <td>1173</td>\n",
       "      <td>24.0</td>\n",
       "      <td>1762.0</td>\n",
       "    </tr>\n",
       "    <tr>\n",
       "      <th>2</th>\n",
       "      <td>0</td>\n",
       "      <td>15</td>\n",
       "      <td>0</td>\n",
       "      <td>0</td>\n",
       "      <td>7</td>\n",
       "      <td>11</td>\n",
       "      <td>4</td>\n",
       "      <td>1</td>\n",
       "      <td>1</td>\n",
       "      <td>0</td>\n",
       "      <td>...</td>\n",
       "      <td>0</td>\n",
       "      <td>17285</td>\n",
       "      <td>6.8</td>\n",
       "      <td>17254</td>\n",
       "      <td>203</td>\n",
       "      <td>28</td>\n",
       "      <td>1172</td>\n",
       "      <td>1033</td>\n",
       "      <td>20.3</td>\n",
       "      <td>1728.5</td>\n",
       "    </tr>\n",
       "    <tr>\n",
       "      <th>3</th>\n",
       "      <td>0</td>\n",
       "      <td>43</td>\n",
       "      <td>1</td>\n",
       "      <td>0</td>\n",
       "      <td>4</td>\n",
       "      <td>5</td>\n",
       "      <td>5</td>\n",
       "      <td>1</td>\n",
       "      <td>0</td>\n",
       "      <td>1</td>\n",
       "      <td>...</td>\n",
       "      <td>0</td>\n",
       "      <td>16478</td>\n",
       "      <td>7.0</td>\n",
       "      <td>17961</td>\n",
       "      <td>235</td>\n",
       "      <td>47</td>\n",
       "      <td>1321</td>\n",
       "      <td>7</td>\n",
       "      <td>23.5</td>\n",
       "      <td>1647.8</td>\n",
       "    </tr>\n",
       "    <tr>\n",
       "      <th>4</th>\n",
       "      <td>0</td>\n",
       "      <td>75</td>\n",
       "      <td>4</td>\n",
       "      <td>0</td>\n",
       "      <td>6</td>\n",
       "      <td>6</td>\n",
       "      <td>6</td>\n",
       "      <td>0</td>\n",
       "      <td>0</td>\n",
       "      <td>0</td>\n",
       "      <td>...</td>\n",
       "      <td>0</td>\n",
       "      <td>17404</td>\n",
       "      <td>7.0</td>\n",
       "      <td>18313</td>\n",
       "      <td>225</td>\n",
       "      <td>67</td>\n",
       "      <td>1004</td>\n",
       "      <td>-230</td>\n",
       "      <td>22.5</td>\n",
       "      <td>1740.4</td>\n",
       "    </tr>\n",
       "  </tbody>\n",
       "</table>\n",
       "<p>5 rows × 39 columns</p>\n",
       "</div>"
      ],
      "text/plain": [
       "   blueWins  blueWardsPlaced  blueWardsDestroyed  blueFirstBlood  blueKills  \\\n",
       "0         0               28                   2               1          9   \n",
       "1         0               12                   1               0          5   \n",
       "2         0               15                   0               0          7   \n",
       "3         0               43                   1               0          4   \n",
       "4         0               75                   4               0          6   \n",
       "\n",
       "   blueDeaths  blueAssists  blueEliteMonsters  blueDragons  blueHeralds  ...  \\\n",
       "0           6           11                  0            0            0  ...   \n",
       "1           5            5                  0            0            0  ...   \n",
       "2          11            4                  1            1            0  ...   \n",
       "3           5            5                  1            0            1  ...   \n",
       "4           6            6                  0            0            0  ...   \n",
       "\n",
       "   redTowersDestroyed  redTotalGold  redAvgLevel  redTotalExperience  \\\n",
       "0                   0         16567          6.8               17047   \n",
       "1                   1         17620          6.8               17438   \n",
       "2                   0         17285          6.8               17254   \n",
       "3                   0         16478          7.0               17961   \n",
       "4                   0         17404          7.0               18313   \n",
       "\n",
       "   redTotalMinionsKilled  redTotalJungleMinionsKilled  redGoldDiff  \\\n",
       "0                    197                           55         -643   \n",
       "1                    240                           52         2908   \n",
       "2                    203                           28         1172   \n",
       "3                    235                           47         1321   \n",
       "4                    225                           67         1004   \n",
       "\n",
       "   redExperienceDiff  redCSPerMin  redGoldPerMin  \n",
       "0                  8         19.7         1656.7  \n",
       "1               1173         24.0         1762.0  \n",
       "2               1033         20.3         1728.5  \n",
       "3                  7         23.5         1647.8  \n",
       "4               -230         22.5         1740.4  \n",
       "\n",
       "[5 rows x 39 columns]"
      ]
     },
     "execution_count": 24,
     "metadata": {},
     "output_type": "execute_result"
    }
   ],
   "source": [
    "df.head()"
   ]
  },
  {
   "cell_type": "code",
   "execution_count": 25,
   "id": "61cdc6a8-c613-4618-89ac-aeea4c628224",
   "metadata": {},
   "outputs": [
    {
     "data": {
      "text/plain": [
       "Index(['blueWins', 'blueWardsPlaced', 'blueWardsDestroyed', 'blueFirstBlood',\n",
       "       'blueKills', 'blueDeaths', 'blueAssists', 'blueEliteMonsters',\n",
       "       'blueDragons', 'blueHeralds', 'blueTowersDestroyed', 'blueTotalGold',\n",
       "       'blueAvgLevel', 'blueTotalExperience', 'blueTotalMinionsKilled',\n",
       "       'blueTotalJungleMinionsKilled', 'blueGoldDiff', 'blueExperienceDiff',\n",
       "       'blueCSPerMin', 'blueGoldPerMin', 'redWardsPlaced', 'redWardsDestroyed',\n",
       "       'redFirstBlood', 'redKills', 'redDeaths', 'redAssists',\n",
       "       'redEliteMonsters', 'redDragons', 'redHeralds', 'redTowersDestroyed',\n",
       "       'redTotalGold', 'redAvgLevel', 'redTotalExperience',\n",
       "       'redTotalMinionsKilled', 'redTotalJungleMinionsKilled', 'redGoldDiff',\n",
       "       'redExperienceDiff', 'redCSPerMin', 'redGoldPerMin'],\n",
       "      dtype='object')"
      ]
     },
     "execution_count": 25,
     "metadata": {},
     "output_type": "execute_result"
    }
   ],
   "source": [
    "df.columns ##checking the columns names"
   ]
  },
  {
   "cell_type": "code",
   "execution_count": 26,
   "id": "d3acadef-c4eb-41e5-8f02-6ff887cabf12",
   "metadata": {},
   "outputs": [
    {
     "data": {
      "text/plain": [
       "blueWins                          int64\n",
       "blueWardsPlaced                   int64\n",
       "blueWardsDestroyed                int64\n",
       "blueFirstBlood                    int64\n",
       "blueKills                         int64\n",
       "blueDeaths                        int64\n",
       "blueAssists                       int64\n",
       "blueEliteMonsters                 int64\n",
       "blueDragons                       int64\n",
       "blueHeralds                       int64\n",
       "blueTowersDestroyed               int64\n",
       "blueTotalGold                     int64\n",
       "blueAvgLevel                    float64\n",
       "blueTotalExperience               int64\n",
       "blueTotalMinionsKilled            int64\n",
       "blueTotalJungleMinionsKilled      int64\n",
       "blueGoldDiff                      int64\n",
       "blueExperienceDiff                int64\n",
       "blueCSPerMin                    float64\n",
       "blueGoldPerMin                  float64\n",
       "redWardsPlaced                    int64\n",
       "redWardsDestroyed                 int64\n",
       "redFirstBlood                     int64\n",
       "redKills                          int64\n",
       "redDeaths                         int64\n",
       "redAssists                        int64\n",
       "redEliteMonsters                  int64\n",
       "redDragons                        int64\n",
       "redHeralds                        int64\n",
       "redTowersDestroyed                int64\n",
       "redTotalGold                      int64\n",
       "redAvgLevel                     float64\n",
       "redTotalExperience                int64\n",
       "redTotalMinionsKilled             int64\n",
       "redTotalJungleMinionsKilled       int64\n",
       "redGoldDiff                       int64\n",
       "redExperienceDiff                 int64\n",
       "redCSPerMin                     float64\n",
       "redGoldPerMin                   float64\n",
       "dtype: object"
      ]
     },
     "execution_count": 26,
     "metadata": {},
     "output_type": "execute_result"
    }
   ],
   "source": [
    "df.dtypes ##checking the Dtypes"
   ]
  },
  {
   "cell_type": "code",
   "execution_count": 28,
   "id": "5df5d0e9-9d97-44dc-82b6-4c8ef559c9db",
   "metadata": {},
   "outputs": [],
   "source": [
    "X = df.drop(\"blueWins\", axis=1)\n",
    "y = df[\"blueWins\"]"
   ]
  },
  {
   "cell_type": "code",
   "execution_count": 45,
   "id": "e4836f67-c3e3-467c-a123-9982bb329563",
   "metadata": {},
   "outputs": [
    {
     "name": "stdout",
     "output_type": "stream",
     "text": [
      "Blue Dragons vs. BlueWins Percentage:\n",
      " blueDragons\n",
      "0    41.853086\n",
      "1    64.093960\n",
      "Name: blueWins, dtype: float64\n"
     ]
    },
    {
     "data": {
      "image/png": "[encoded data removed]",
      "text/plain": [
       "<Figure size 800x600 with 1 Axes>"
      ]
     },
     "metadata": {},
     "output_type": "display_data"
    }
   ],
   "source": [
    "plt.figure(figsize=(8, 6))\n",
    "sns.countplot(x='blueDragons', hue='blueWins', data=df)\n",
    "plt.title('Blue Dragons vs. BlueWins')\n",
    "blue_dragons_win_rate = df.groupby('blueDragons')['blueWins'].mean() * 100\n",
    "print(\"Blue Dragons vs. BlueWins Percentage:\\n\", blue_dragons_win_rate)\n",
    "plt.show()\n"
   ]
  },
  {
   "cell_type": "markdown",
   "id": "ab3500a2-58c2-4713-898a-fb6072922f23",
   "metadata": {},
   "source": [
    "This shows that if the blue team takes a Dragon in the first 10 mins, their chances of winning increases to 64%"
   ]
  },
  {
   "cell_type": "code",
   "execution_count": 47,
   "id": "d3cf39c6-63a6-470e-a1dc-2fb0f31983b0",
   "metadata": {},
   "outputs": [
    {
     "name": "stdout",
     "output_type": "stream",
     "text": [
      "Red Dragons vs. BlueWins Percentage:\n",
      " redDragons\n",
      "0    58.692653\n",
      "1    37.417300\n",
      "Name: blueWins, dtype: float64\n"
     ]
    },
    {
     "data": {
      "image/png": "[encoded data removed]",
      "text/plain": [
       "<Figure size 800x600 with 1 Axes>"
      ]
     },
     "metadata": {},
     "output_type": "display_data"
    }
   ],
   "source": [
    "plt.figure(figsize=(8, 6))\n",
    "sns.countplot(x='redDragons', hue='blueWins', data=df)\n",
    "plt.title('Red Dragons vs. BlueWins')\n",
    "red_dragons_win_rate = df.groupby('redDragons')['blueWins'].mean() * 100\n",
    "print(\"Red Dragons vs. BlueWins Percentage:\\n\", red_dragons_win_rate)\n",
    "plt.show()\n"
   ]
  },
  {
   "cell_type": "markdown",
   "id": "28a59685-3b2c-4708-a9f4-ea60b474604a",
   "metadata": {},
   "source": [
    "This shows that if the red team takes a Dragon in the first 10 mins, their chances of winning increases to 62% which is 2 percent lower than the blue team taking the a dragon in the first 10 mins. This is due to the expectancy of the red team to take the first dragon and for the blue team to take the first rift herald"
   ]
  },
  {
   "cell_type": "code",
   "execution_count": 48,
   "id": "0f1e4380-6a7e-4b13-a37f-bad1b59ce24f",
   "metadata": {},
   "outputs": [
    {
     "name": "stdout",
     "output_type": "stream",
     "text": [
      "Blue Heralds vs. BlueWins Percentage:\n",
      " blueHeralds\n",
      "0    47.681376\n",
      "1    59.504577\n",
      "Name: blueWins, dtype: float64\n"
     ]
    },
    {
     "data": {
      "image/png": "[encoded data removed]",
      "text/plain": [
       "<Figure size 800x600 with 1 Axes>"
      ]
     },
     "metadata": {},
     "output_type": "display_data"
    }
   ],
   "source": [
    "plt.figure(figsize=(8, 6))\n",
    "sns.countplot(x='blueHeralds', hue='blueWins', data=df)\n",
    "plt.title('Blue Heralds vs. BlueWins')\n",
    "blue_heralds_win_rate = df.groupby('blueHeralds')['blueWins'].mean() * 100\n",
    "print(\"Blue Heralds vs. BlueWins Percentage:\\n\", blue_heralds_win_rate)\n",
    "\n",
    "plt.show()\n"
   ]
  },
  {
   "cell_type": "markdown",
   "id": "58632dc4-5c6f-42f7-840c-5f44e7d3457f",
   "metadata": {},
   "source": [
    "This shows that if Blue team takes the herald in the first 10 mins, they are expected to win 59% of the time"
   ]
  },
  {
   "cell_type": "code",
   "execution_count": 51,
   "id": "ade894ef-7f2d-4249-b369-a7e0044cc2a5",
   "metadata": {},
   "outputs": [
    {
     "name": "stdout",
     "output_type": "stream",
     "text": [
      "Red Heralds vs. BlueWins Percentage:\n",
      " redHeralds\n",
      "0    52.024584\n",
      "1    38.772929\n",
      "Name: blueWins, dtype: float64\n"
     ]
    },
    {
     "data": {
      "image/png": "[encoded data removed]",
      "text/plain": [
       "<Figure size 800x600 with 1 Axes>"
      ]
     },
     "metadata": {},
     "output_type": "display_data"
    }
   ],
   "source": [
    "plt.figure(figsize=(8, 6))\n",
    "sns.countplot(x='redHeralds', hue='blueWins', data=df)\n",
    "plt.title('Red Heralds vs. BlueWins')\n",
    "red_heralds_win_rate = df.groupby('redHeralds')['blueWins'].mean() * 100\n",
    "print(\"Red Heralds vs. BlueWins Percentage:\\n\", red_heralds_win_rate)\n",
    "\n",
    "plt.show()\n"
   ]
  },
  {
   "cell_type": "markdown",
   "id": "c329485b-f270-4504-a939-83cf1d556268",
   "metadata": {},
   "source": [
    "This shows that if Red team takes the herald in the first 10 mins, they are expected to win 62% of the time which is 3% higher than the blue team as they are not expected to be the one taking the rift herald when it comes to sides."
   ]
  },
  {
   "cell_type": "code",
   "execution_count": 33,
   "id": "66761204-cc29-495e-9dd0-433bc8ec75e5",
   "metadata": {},
   "outputs": [],
   "source": [
    "X_train, X_test, y_train, y_test = train_test_split(X, y, test_size=0.2, random_state=42) ## Splitting the data set into test and training sets"
   ]
  },
  {
   "cell_type": "code",
   "execution_count": 34,
   "id": "135094ef-fc8b-441f-8749-7aa4935ce814",
   "metadata": {},
   "outputs": [],
   "source": [
    "scaler = StandardScaler()\n",
    "X_train_scaled = scaler.fit_transform(X_train)\n",
    "X_test_scaled = scaler.transform(X_test)\n",
    "\n",
    "#Scale the feature data."
   ]
  },
  {
   "cell_type": "code",
   "execution_count": 31,
   "id": "a929878b-1c7c-450b-a1c4-d0fe7c5116d9",
   "metadata": {},
   "outputs": [
    {
     "data": {
      "text/html": [
       "<style>#sk-container-id-1 {color: black;background-color: white;}#sk-container-id-1 pre{padding: 0;}#sk-container-id-1 div.sk-toggleable {background-color: white;}#sk-container-id-1 label.sk-toggleable__label {cursor: pointer;display: block;width: 100%;margin-bottom: 0;padding: 0.3em;box-sizing: border-box;text-align: center;}#sk-container-id-1 label.sk-toggleable__label-arrow:before {content: \"▸\";float: left;margin-right: 0.25em;color: #696969;}#sk-container-id-1 label.sk-toggleable__label-arrow:hover:before {color: black;}#sk-container-id-1 div.sk-estimator:hover label.sk-toggleable__label-arrow:before {color: black;}#sk-container-id-1 div.sk-toggleable__content {max-height: 0;max-width: 0;overflow: hidden;text-align: left;background-color: #f0f8ff;}#sk-container-id-1 div.sk-toggleable__content pre {margin: 0.2em;color: black;border-radius: 0.25em;background-color: #f0f8ff;}#sk-container-id-1 input.sk-toggleable__control:checked~div.sk-toggleable__content {max-height: 200px;max-width: 100%;overflow: auto;}#sk-container-id-1 input.sk-toggleable__control:checked~label.sk-toggleable__label-arrow:before {content: \"▾\";}#sk-container-id-1 div.sk-estimator input.sk-toggleable__control:checked~label.sk-toggleable__label {background-color: #d4ebff;}#sk-container-id-1 div.sk-label input.sk-toggleable__control:checked~label.sk-toggleable__label {background-color: #d4ebff;}#sk-container-id-1 input.sk-hidden--visually {border: 0;clip: rect(1px 1px 1px 1px);clip: rect(1px, 1px, 1px, 1px);height: 1px;margin: -1px;overflow: hidden;padding: 0;position: absolute;width: 1px;}#sk-container-id-1 div.sk-estimator {font-family: monospace;background-color: #f0f8ff;border: 1px dotted black;border-radius: 0.25em;box-sizing: border-box;margin-bottom: 0.5em;}#sk-container-id-1 div.sk-estimator:hover {background-color: #d4ebff;}#sk-container-id-1 div.sk-parallel-item::after {content: \"\";width: 100%;border-bottom: 1px solid gray;flex-grow: 1;}#sk-container-id-1 div.sk-label:hover label.sk-toggleable__label {background-color: #d4ebff;}#sk-container-id-1 div.sk-serial::before {content: \"\";position: absolute;border-left: 1px solid gray;box-sizing: border-box;top: 0;bottom: 0;left: 50%;z-index: 0;}#sk-container-id-1 div.sk-serial {display: flex;flex-direction: column;align-items: center;background-color: white;padding-right: 0.2em;padding-left: 0.2em;position: relative;}#sk-container-id-1 div.sk-item {position: relative;z-index: 1;}#sk-container-id-1 div.sk-parallel {display: flex;align-items: stretch;justify-content: center;background-color: white;position: relative;}#sk-container-id-1 div.sk-item::before, #sk-container-id-1 div.sk-parallel-item::before {content: \"\";position: absolute;border-left: 1px solid gray;box-sizing: border-box;top: 0;bottom: 0;left: 50%;z-index: -1;}#sk-container-id-1 div.sk-parallel-item {display: flex;flex-direction: column;z-index: 1;position: relative;background-color: white;}#sk-container-id-1 div.sk-parallel-item:first-child::after {align-self: flex-end;width: 50%;}#sk-container-id-1 div.sk-parallel-item:last-child::after {align-self: flex-start;width: 50%;}#sk-container-id-1 div.sk-parallel-item:only-child::after {width: 0;}#sk-container-id-1 div.sk-dashed-wrapped {border: 1px dashed gray;margin: 0 0.4em 0.5em 0.4em;box-sizing: border-box;padding-bottom: 0.4em;background-color: white;}#sk-container-id-1 div.sk-label label {font-family: monospace;font-weight: bold;display: inline-block;line-height: 1.2em;}#sk-container-id-1 div.sk-label-container {text-align: center;}#sk-container-id-1 div.sk-container {/* jupyter's `normalize.less` sets `[hidden] { display: none; }` but bootstrap.min.css set `[hidden] { display: none !important; }` so we also need the `!important` here to be able to override the default hidden behavior on the sphinx rendered scikit-learn.org. See: https://github.com/scikit-learn/scikit-learn/issues/21755 */display: inline-block !important;position: relative;}#sk-container-id-1 div.sk-text-repr-fallback {display: none;}</style><div id=\"sk-container-id-1\" class=\"sk-top-container\"><div class=\"sk-text-repr-fallback\"><pre>LogisticRegression()</pre><b>In a Jupyter environment, please rerun this cell to show the HTML representation or trust the notebook. <br />On GitHub, the HTML representation is unable to render, please try loading this page with nbviewer.org.</b></div><div class=\"sk-container\" hidden><div class=\"sk-item\"><div class=\"sk-estimator sk-toggleable\"><input class=\"sk-toggleable__control sk-hidden--visually\" id=\"sk-estimator-id-1\" type=\"checkbox\" checked><label for=\"sk-estimator-id-1\" class=\"sk-toggleable__label sk-toggleable__label-arrow\">LogisticRegression</label><div class=\"sk-toggleable__content\"><pre>LogisticRegression()</pre></div></div></div></div></div>"
      ],
      "text/plain": [
       "LogisticRegression()"
      ]
     },
     "execution_count": 31,
     "metadata": {},
     "output_type": "execute_result"
    }
   ],
   "source": [
    "model = LogisticRegression()\n",
    "model.fit(X_train_scaled, y_train)"
   ]
  },
  {
   "cell_type": "code",
   "execution_count": 35,
   "id": "4f14f3e7-490a-4c7f-9d1d-9c926d6f6749",
   "metadata": {},
   "outputs": [],
   "source": [
    "y_pred = model.predict(X_test_scaled)\n"
   ]
  },
  {
   "cell_type": "code",
   "execution_count": 36,
   "id": "cf5a4ade-746c-4b31-a613-c2ec50fb1358",
   "metadata": {},
   "outputs": [
    {
     "name": "stdout",
     "output_type": "stream",
     "text": [
      "Accuracy: 0.7322874493927125\n",
      "Confusion Matrix:\n",
      " [[719 264]\n",
      " [265 728]]\n",
      "Classification Report:\n",
      "               precision    recall  f1-score   support\n",
      "\n",
      "           0       0.73      0.73      0.73       983\n",
      "           1       0.73      0.73      0.73       993\n",
      "\n",
      "    accuracy                           0.73      1976\n",
      "   macro avg       0.73      0.73      0.73      1976\n",
      "weighted avg       0.73      0.73      0.73      1976\n",
      "\n"
     ]
    }
   ],
   "source": [
    "accuracy = accuracy_score(y_test, y_pred)\n",
    "confusion = confusion_matrix(y_test, y_pred)\n",
    "report = classification_report(y_test, y_pred)\n",
    "\n",
    "print(\"Accuracy:\", accuracy)\n",
    "print(\"Confusion Matrix:\\n\", confusion)\n",
    "print(\"Classification Report:\\n\", report)\n"
   ]
  },
  {
   "cell_type": "code",
   "execution_count": 37,
   "id": "7e8572ff-c275-4bdb-94fc-4aeb0fca7af6",
   "metadata": {},
   "outputs": [
    {
     "data": {
      "image/png": "[encoded data removed]",
      "text/plain": [
       "<Figure size 800x600 with 2 Axes>"
      ]
     },
     "metadata": {},
     "output_type": "display_data"
    }
   ],
   "source": [
    "import matplotlib.pyplot as plt\n",
    "import seaborn as sns\n",
    "\n",
    "plt.figure(figsize=(8, 6))\n",
    "sns.heatmap(confusion, annot=True, fmt='g', cmap='Blues', xticklabels=['Not BlueWins', 'BlueWins'], yticklabels=['Not BlueWins', 'BlueWins'])\n",
    "plt.xlabel('Predicted')\n",
    "plt.ylabel('Actual')\n",
    "plt.title('Confusion Matrix')\n",
    "plt.show()"
   ]
  },
  {
   "cell_type": "code",
   "execution_count": null,
   "id": "154cb8b9-6f70-43ee-a4c2-0fca339cbd88",
   "metadata": {},
   "outputs": [],
   "source": []
  }
 ],
 "metadata": {
  "kernelspec": {
   "display_name": "Python 3 (ipykernel)",
   "language": "python",
   "name": "python3"
  },
  "language_info": {
   "codemirror_mode": {
    "name": "ipython",
    "version": 3
   },
   "file_extension": ".py",
   "mimetype": "text/x-python",
   "name": "python",
   "nbconvert_exporter": "python",
   "pygments_lexer": "ipython3",
   "version": "3.9.13"
  }
 },
 "nbformat": 4,
 "nbformat_minor": 5
}
